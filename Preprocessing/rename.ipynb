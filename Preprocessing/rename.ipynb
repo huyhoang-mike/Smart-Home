{
 "cells": [
  {
   "cell_type": "code",
   "execution_count": 1,
   "metadata": {},
   "outputs": [],
   "source": [
    "import os\n",
    "import PIL\n",
    "from PIL import Image\n",
    "from os import listdir"
   ]
  },
  {
   "cell_type": "code",
   "execution_count": 3,
   "metadata": {},
   "outputs": [
    {
     "name": "stdout",
     "output_type": "stream",
     "text": [
      "c:\\DISK (D)\\DOWNLOADS\\New folder\\images\\bavaria license plate with car\n"
     ]
    }
   ],
   "source": [
    "folder_dir = os.path.join(os.getcwd())\n",
    "print(folder_dir)"
   ]
  },
  {
   "cell_type": "code",
   "execution_count": 4,
   "metadata": {},
   "outputs": [],
   "source": [
    "# get the path\n",
    "folder_dir = os.path.join(os.getcwd())\n",
    "\n",
    "# loop\n",
    "for images in os.listdir(folder_dir):\n",
    "\n",
    "    # check extension\n",
    "    if(images.endswith('.png')):\n",
    "        # print(images)\n",
    "        name = os.path.splitext(images)[0]\n",
    "        # print(type(name))\n",
    "        png = Image.open(images)\n",
    "        rgb = png.convert('RGB')\n",
    "        rgb.save(str(name) + '.jpg')"
   ]
  },
  {
   "cell_type": "code",
   "execution_count": 5,
   "metadata": {},
   "outputs": [],
   "source": [
    "# get the path\n",
    "folder_dir = os.getcwd()\n",
    "\n",
    "# loop\n",
    "for images in os.listdir(folder_dir):\n",
    "\n",
    "    # check extension\n",
    "    if(images.endswith('.png')):\n",
    "        #remove png\n",
    "        os.remove(images)"
   ]
  },
  {
   "cell_type": "code",
   "execution_count": 8,
   "metadata": {},
   "outputs": [],
   "source": [
    "import uuid\n",
    "\n",
    "# get the path\n",
    "folder_dir = os.getcwd()\n",
    "\n",
    "# loop\n",
    "for images in os.listdir(folder_dir):\n",
    "    if(images.endswith('.jpg')):   \n",
    "        img = Image.open(images)\n",
    "        name = uuid.uuid4()\n",
    "        img.save(str(name) + '.jpg')"
   ]
  }
 ],
 "metadata": {
  "kernelspec": {
   "display_name": "Python 3",
   "language": "python",
   "name": "python3"
  },
  "language_info": {
   "codemirror_mode": {
    "name": "ipython",
    "version": 3
   },
   "file_extension": ".py",
   "mimetype": "text/x-python",
   "name": "python",
   "nbconvert_exporter": "python",
   "pygments_lexer": "ipython3",
   "version": "3.11.5"
  }
 },
 "nbformat": 4,
 "nbformat_minor": 2
}
