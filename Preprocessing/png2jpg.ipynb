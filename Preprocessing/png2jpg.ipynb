{
 "cells": [
  {
   "cell_type": "code",
   "execution_count": 14,
   "metadata": {},
   "outputs": [],
   "source": [
    "import os\n",
    "import PIL\n",
    "from PIL import Image\n",
    "from os import listdir\n"
   ]
  },
  {
   "cell_type": "code",
   "execution_count": 3,
   "metadata": {},
   "outputs": [
    {
     "data": {
      "text/plain": [
       "'c:\\\\DISK (D)\\\\DOWNLOADS\\\\images'"
      ]
     },
     "execution_count": 3,
     "metadata": {},
     "output_type": "execute_result"
    }
   ],
   "source": [
    "os.getcwd()"
   ]
  },
  {
   "cell_type": "code",
   "execution_count": 18,
   "metadata": {},
   "outputs": [
    {
     "name": "stdout",
     "output_type": "stream",
     "text": [
      "c:\\DISK (D)\\DOWNLOADS\\images\n",
      "['Cars0.png', 'Cars1.png', 'Cars10.png', 'Cars100.png', 'Cars101.png', 'Cars102.png', 'Cars103.png', 'Cars104.png', 'Cars105.png', 'Cars106.png', 'Cars107.png', 'Cars108.png', 'Cars109.png', 'Cars11.png', 'Cars110.png', 'Cars111.png', 'Cars112.png', 'Cars113.png', 'Cars114.png', 'Cars115.png', 'Cars116.png', 'Cars117.png', 'Cars118.png', 'Cars119.png', 'Cars12.png', 'Cars120.png', 'Cars121.png', 'Cars122.png', 'Cars123.png', 'Cars124.png', 'Cars125.png', 'Cars126.png', 'Cars127.png', 'Cars128.png', 'Cars129.png', 'Cars13.png', 'Cars130.png', 'Cars131.png', 'Cars132.png', 'Cars133.png', 'Cars134.png', 'Cars135.png', 'Cars136.png', 'Cars137.png', 'Cars138.png', 'Cars139.png', 'Cars14.png', 'Cars140.png', 'Cars141.png', 'Cars142.png', 'Cars143.png', 'Cars144.png', 'Cars145.png', 'Cars146.png', 'Cars147.png', 'Cars148.png', 'Cars149.png', 'Cars15.png', 'Cars150.png', 'Cars151.png', 'Cars152.png', 'Cars153.png', 'Cars154.png', 'Cars155.png', 'Cars156.png', 'Cars157.png', 'Cars158.png', 'Cars159.png', 'Cars16.png', 'Cars160.png', 'Cars161.png', 'Cars162.png', 'Cars163.png', 'Cars164.png', 'Cars165.png', 'Cars166.png', 'Cars167.png', 'Cars168.png', 'Cars169.png', 'Cars17.png', 'Cars170.png', 'Cars171.png', 'Cars172.png', 'Cars173.png', 'Cars174.png', 'Cars175.png', 'Cars176.png', 'Cars177.png', 'Cars178.png', 'Cars179.png', 'Cars18.png', 'Cars180.png', 'Cars181.png', 'Cars182.png', 'Cars183.png', 'Cars184.png', 'Cars185.png', 'Cars186.png', 'Cars187.png', 'Cars188.png', 'Cars189.png', 'Cars19.png', 'Cars190.png', 'Cars191.png', 'Cars192.png', 'Cars193.png', 'Cars194.png', 'Cars195.png', 'Cars196.png', 'Cars197.png', 'Cars198.png', 'Cars199.png', 'Cars2.png', 'Cars20.png', 'Cars200.png', 'Cars201.png', 'Cars202.png', 'Cars203.png', 'Cars204.png', 'Cars205.png', 'Cars206.png', 'Cars207.png', 'Cars208.png', 'Cars209.png', 'Cars21.png', 'Cars210.png', 'Cars211.png', 'Cars212.png', 'Cars213.png', 'Cars214.png', 'Cars215.png', 'Cars216.png', 'Cars217.png', 'Cars218.png', 'Cars219.png', 'Cars22.png', 'Cars220.png', 'Cars221.png', 'Cars222.png', 'Cars223.png', 'Cars224.png', 'Cars225.png', 'Cars226.png', 'Cars227.png', 'Cars228.png', 'Cars229.png', 'Cars23.png', 'Cars230.png', 'Cars231.png', 'Cars232.png', 'Cars233.png', 'Cars234.png', 'Cars235.png', 'Cars236.png', 'Cars237.png', 'Cars238.png', 'Cars239.png', 'Cars24.png', 'Cars240.png', 'Cars241.png', 'Cars242.png', 'Cars243.png', 'Cars244.png', 'Cars245.png', 'Cars246.png', 'Cars247.png', 'Cars248.png', 'Cars249.png', 'Cars25.png', 'Cars250.png', 'Cars251.png', 'Cars252.png', 'Cars253.png', 'Cars254.png', 'Cars255.png', 'Cars256.png', 'Cars257.png', 'Cars258.png', 'Cars259.png', 'Cars26.png', 'Cars260.png', 'Cars261.png', 'Cars262.png', 'Cars263.png', 'Cars264.png', 'Cars265.png', 'Cars266.png', 'Cars267.png', 'Cars268.png', 'Cars269.png', 'Cars27.png', 'Cars270.png', 'Cars271.png', 'Cars272.png', 'Cars273.png', 'Cars274.png', 'Cars275.png', 'Cars276.png', 'Cars277.png', 'Cars278.png', 'Cars279.png', 'Cars28.png', 'Cars280.png', 'Cars281.png', 'Cars282.png', 'Cars283.png', 'Cars284.png', 'Cars285.png', 'Cars286.png', 'Cars287.png', 'Cars288.png', 'Cars289.png', 'Cars29.png', 'Cars290.png', 'Cars291.png', 'Cars292.png', 'Cars293.png', 'Cars294.png', 'Cars295.png', 'Cars296.png', 'Cars297.png', 'Cars298.png', 'Cars299.png', 'Cars3.png', 'Cars30.png', 'Cars300.png', 'Cars301.png', 'Cars302.png', 'Cars303.png', 'Cars304.png', 'Cars305.png', 'Cars306.png', 'Cars307.png', 'Cars308.png', 'Cars309.png', 'Cars31.png', 'Cars310.png', 'Cars311.png', 'Cars312.png', 'Cars313.png', 'Cars314.png', 'Cars315.png', 'Cars316.png', 'Cars317.png', 'Cars318.png', 'Cars319.png', 'Cars32.png', 'Cars320.png', 'Cars321.png', 'Cars322.png', 'Cars323.png', 'Cars324.png', 'Cars325.png', 'Cars326.png', 'Cars327.png', 'Cars328.png', 'Cars329.png', 'Cars33.png', 'Cars330.png', 'Cars331.png', 'Cars332.png', 'Cars333.png', 'Cars334.png', 'Cars335.png', 'Cars336.png', 'Cars337.png', 'Cars338.png', 'Cars339.png', 'Cars34.png', 'Cars340.png', 'Cars341.png', 'Cars342.png', 'Cars343.png', 'Cars344.png', 'Cars345.png', 'Cars346.png', 'Cars347.png', 'Cars348.png', 'Cars349.png', 'Cars35.png', 'Cars350.png', 'Cars351.png', 'Cars352.png', 'Cars353.png', 'Cars354.png', 'Cars355.png', 'Cars356.png', 'Cars357.png', 'Cars358.png', 'Cars359.png', 'Cars36.png', 'Cars360.png', 'Cars361.png', 'Cars362.png', 'Cars363.png', 'Cars364.png', 'Cars365.png', 'Cars366.png', 'Cars367.png', 'Cars368.png', 'Cars369.png', 'Cars37.png', 'Cars370.png', 'Cars371.png', 'Cars372.png', 'Cars373.png', 'Cars374.png', 'Cars375.png', 'Cars376.png', 'Cars377.png', 'Cars378.png', 'Cars379.png', 'Cars38.png', 'Cars380.png', 'Cars381.png', 'Cars382.png', 'Cars383.png', 'Cars384.png', 'Cars385.png', 'Cars386.png', 'Cars387.png', 'Cars388.png', 'Cars389.png', 'Cars39.png', 'Cars390.png', 'Cars391.png', 'Cars392.png', 'Cars393.png', 'Cars394.png', 'Cars395.png', 'Cars396.png', 'Cars397.png', 'Cars398.png', 'Cars399.png', 'Cars4.png', 'Cars40.png', 'Cars400.png', 'Cars401.png', 'Cars402.png', 'Cars403.png', 'Cars404.png', 'Cars405.png', 'Cars406.png', 'Cars407.png', 'Cars408.png', 'Cars409.png', 'Cars41.png', 'Cars410.png', 'Cars411.png', 'Cars412.png', 'Cars413.png', 'Cars414.png', 'Cars415.png', 'Cars416.png', 'Cars417.png', 'Cars418.png', 'Cars419.png', 'Cars42.png', 'Cars420.png', 'Cars421.png', 'Cars422.png', 'Cars423.png', 'Cars424.png', 'Cars425.png', 'Cars426.png', 'Cars427.png', 'Cars428.png', 'Cars429.png', 'Cars43.png', 'Cars430.png', 'Cars431.png', 'Cars432.png', 'Cars44.png', 'Cars45.png', 'Cars46.png', 'Cars47.png', 'Cars48.png', 'Cars49.png', 'Cars5.png', 'Cars50.png', 'Cars51.png', 'Cars52.png', 'Cars53.png', 'Cars54.png', 'Cars55.png', 'Cars56.png', 'Cars57.png', 'Cars58.png', 'Cars59.png', 'Cars6.png', 'Cars60.png', 'Cars61.png', 'Cars62.png', 'Cars63.png', 'Cars64.png', 'Cars65.png', 'Cars66.png', 'Cars67.png', 'Cars68.png', 'Cars69.png', 'Cars7.png', 'Cars70.png', 'Cars71.png', 'Cars72.png', 'Cars73.png', 'Cars74.png', 'Cars75.png', 'Cars76.png', 'Cars77.png', 'Cars78.png', 'Cars79.png', 'Cars8.png', 'Cars80.png', 'Cars81.png', 'Cars82.png', 'Cars83.png', 'Cars84.png', 'Cars85.png', 'Cars86.png', 'Cars87.png', 'Cars88.png', 'Cars89.png', 'Cars9.png', 'Cars90.png', 'Cars91.png', 'Cars92.png', 'Cars93.png', 'Cars94.png', 'Cars95.png', 'Cars96.png', 'Cars97.png', 'Cars98.png', 'Cars99.png', 'jpg', 'png2jpg.ipynb']\n",
      "c:\\DISK (D)\\DOWNLOADS\\images\\jpg\n"
     ]
    }
   ],
   "source": [
    "folder_dir = os.getcwd()\n",
    "file = os.path.join(os.getcwd(),'Cars0.png')\n",
    "print(folder_dir)\n",
    "print(os.listdir(folder_dir))\n",
    "print(os.path.join(os.getcwd(),'jpg'))"
   ]
  },
  {
   "cell_type": "code",
   "execution_count": 15,
   "metadata": {},
   "outputs": [],
   "source": [
    "# get the path\n",
    "folder_dir = os.getcwd()\n",
    "\n",
    "# loop\n",
    "for images in os.listdir(folder_dir):\n",
    "\n",
    "    # check extension\n",
    "    if(images.endswith('.png')):\n",
    "        # print(images)\n",
    "        name = os.path.splitext(images)[0]\n",
    "        # print(type(name))\n",
    "        png = Image.open(images)\n",
    "        rgb = png.convert('RGB')\n",
    "        rgb.save(str(name) + '.jpg')"
   ]
  },
  {
   "cell_type": "code",
   "execution_count": 16,
   "metadata": {},
   "outputs": [],
   "source": [
    "# get the path\n",
    "folder_dir = os.getcwd()\n",
    "\n",
    "# loop\n",
    "for images in os.listdir(folder_dir):\n",
    "\n",
    "    # check extension\n",
    "    if(images.endswith('.png')):\n",
    "        #remove png\n",
    "        os.remove(images)"
   ]
  }
 ],
 "metadata": {
  "kernelspec": {
   "display_name": "Python 3",
   "language": "python",
   "name": "python3"
  },
  "language_info": {
   "codemirror_mode": {
    "name": "ipython",
    "version": 3
   },
   "file_extension": ".py",
   "mimetype": "text/x-python",
   "name": "python",
   "nbconvert_exporter": "python",
   "pygments_lexer": "ipython3",
   "version": "3.11.5"
  }
 },
 "nbformat": 4,
 "nbformat_minor": 2
}
